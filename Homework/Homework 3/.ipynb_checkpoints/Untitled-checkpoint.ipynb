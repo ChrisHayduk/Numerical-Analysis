{
 "cells": [
  {
   "cell_type": "markdown",
   "metadata": {},
   "source": [
    "# Homework 3"
   ]
  },
  {
   "cell_type": "markdown",
   "metadata": {},
   "source": [
    "#### Question 1"
   ]
  },
  {
   "cell_type": "code",
   "execution_count": 4,
   "metadata": {},
   "outputs": [
    {
     "name": "stdout",
     "output_type": "stream",
     "text": [
      "\n",
      " Iteration:  0 , x_{n-1}:  3 , x_n:  2 , Error:  1\n",
      "\n",
      " Iteration:  1 , x_{n-1}:  2 , x_n:  0.8706020782571979 , Error:  1.129397921742802\n",
      "\n",
      " Iteration:  2 , x_{n-1}:  0.8706020782571979 , x_n:  1.1985542343177913 , Error:  0.32795215606059336\n",
      "\n",
      " Iteration:  3 , x_{n-1}:  1.1985542343177913 , x_n:  1.3229955468185877 , Error:  0.12444131250079637\n",
      "\n",
      " Iteration:  4 , x_{n-1}:  1.3229955468185877 , x_n:  1.2914674589747202 , Error:  0.031528087843867514\n",
      "\n",
      " Iteration:  5 , x_{n-1}:  1.2914674589747202 , x_n:  1.2926813363329115 , Error:  0.0012138773581913398\n",
      "\n",
      " Iteration:  6 , x_{n-1}:  1.2926813363329115 , x_n:  1.2926957264424896 , Error:  1.4390109578155119e-05\n"
     ]
    }
   ],
   "source": [
    "import math\n",
    "import numpy as np\n",
    "\n",
    "def secant(x0, x1, f, max_n):\n",
    "    fx0 = f(x0)\n",
    "    \n",
    "    n = 0\n",
    "    \n",
    "    error = abs(x0-x1)\n",
    "    ep = 10**(-6)\n",
    "    \n",
    "    while error > ep and n <= max_n:\n",
    "        print(\"\\n Iteration: \", n, \", x_{n-1}: \", x0, \", x_n: \", x1, \", Error: \", error)\n",
    "        n += 1\n",
    "        fx1 = f(x1)\n",
    "        \n",
    "        if fx1 - fx0 == 0:\n",
    "            print(\"f(x1) = f(x0)); Division by zero\")\n",
    "            break\n",
    "        \n",
    "        x2 = x1 - fx1*(x1-x0)/(fx1-fx0)\n",
    "        \n",
    "        error = abs(x2 - x1)\n",
    "        \n",
    "        x0 = x1\n",
    "        x1 = x2\n",
    "        fx0 = fx1\n",
    "    \n",
    "secant(3, 2, lambda x: math.exp(-x) - math.cos(x), 6)"
   ]
  },
  {
   "cell_type": "code",
   "execution_count": null,
   "metadata": {},
   "outputs": [],
   "source": []
  }
 ],
 "metadata": {
  "kernelspec": {
   "display_name": "Python 3",
   "language": "python",
   "name": "python3"
  },
  "language_info": {
   "codemirror_mode": {
    "name": "ipython",
    "version": 3
   },
   "file_extension": ".py",
   "mimetype": "text/x-python",
   "name": "python",
   "nbconvert_exporter": "python",
   "pygments_lexer": "ipython3",
   "version": "3.7.0"
  }
 },
 "nbformat": 4,
 "nbformat_minor": 2
}
