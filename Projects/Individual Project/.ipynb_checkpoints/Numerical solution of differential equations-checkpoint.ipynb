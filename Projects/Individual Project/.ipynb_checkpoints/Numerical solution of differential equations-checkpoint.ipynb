{
 "cells": [
  {
   "cell_type": "markdown",
   "metadata": {},
   "source": [
    "# Numerical solution of differential equations\n",
    "## Chris Hayduk\n",
    "\n",
    "In this project, we apply numerical techniques to find an approximation of the solution of an initial value problem. It is ok to discuss with your classmates or to google, but <b>don't copy any line of the code</b>. If I notice any identical part of codes, I am going to give 0 credit for all of them.\n",
    "\n",
    "Return your worksheet by the end of May 2nd (Thursday). Please change the file name as <b>your last name - final project.ipynb</b>"
   ]
  },
  {
   "cell_type": "markdown",
   "metadata": {},
   "source": [
    "The <b>logistic equation</b>, originally due to Pierre-François Verhulst in 1838, is the differential equation describing the population growth under the limited resources. Suppose that the environment has a carrying capacity (the maximum population size that the environment can sustain indefinitely) $K$. Let $P(t)$ be the population of a species at time $t$. Then the logistic equation is given by\n",
    "$$\\frac{dP}{dt} = rP\\left(1-\\frac{P}{K}\\right),$$\n",
    "where $r$ is a constant (initial growth ratio). \n",
    "\n",
    "This is one of first-order differential equations that could be solved analytically, and the general solution is \n",
    "$$P(t) = \\frac{KP_0e^{rt}}{K + P_0(e^{rt}-1)}.$$"
   ]
  },
  {
   "cell_type": "markdown",
   "metadata": {},
   "source": [
    "#### 1. (10 pts) For this problem, let $K = 12$, $r = 0.43$, and $P_0 = P(0) = 1$. Construct a function Euler(h, N) that calculates an approximation $p_h(t_n)$ of $P(t_n)$ for $1 \\le n \\le N$ by using Euler's method where $t_n = hn$."
   ]
  },
  {
   "cell_type": "code",
   "execution_count": null,
   "metadata": {},
   "outputs": [],
   "source": []
  },
  {
   "cell_type": "markdown",
   "metadata": {},
   "source": [
    "#### 2. (10 pts) Sketch the graph of $P(t)$ and the approximations $p_h(t_n)$ with $h = 1, 0.5, 0.1$ for the time interval $[0, 30]$ on the same plane. Which $h$ value does provide a better approximation?"
   ]
  },
  {
   "cell_type": "code",
   "execution_count": null,
   "metadata": {},
   "outputs": [],
   "source": []
  },
  {
   "cell_type": "markdown",
   "metadata": {},
   "source": [
    "#### 3. (10 pts) For many mathematical models, the carrying capacity $K$ is <i>not</i> a constant. A particularly important special case is that $K$ is <i>periodic</i>, because in many situation the carrying capacity depends on the temperature and the change of temperature is nearly periodic (with a year as a period). From now on, let $K(t) = 12 + 2.5\\sin(\\frac{t}{12})$. (Then the exact solution formula for $P(t)$ is not valid anymore.) Use the same $r$ and $P(0)$. Construct a function Euler2(h, N) that calculates an approximation $p_h(t_n)$ of $P(t_n)$ for $1 \\le n \\le N$ by using Euler's method where $t_n = hn$."
   ]
  },
  {
   "cell_type": "code",
   "execution_count": null,
   "metadata": {},
   "outputs": [],
   "source": []
  },
  {
   "cell_type": "markdown",
   "metadata": {},
   "source": [
    "#### 4. (10 pts) Plot $p_h(t_n)$ with $h = 1, 0.5, 0.1$ for the time interval $[0, 100]$ on the same plane."
   ]
  },
  {
   "cell_type": "code",
   "execution_count": null,
   "metadata": {},
   "outputs": [],
   "source": []
  },
  {
   "cell_type": "markdown",
   "metadata": {},
   "source": [
    "#### 5. (20 pts) Write a short essay (three paragraphs) on the following topic. Grading is based on completion. Don't need to write with a fancy style. Just explain your thought. \n",
    "\n",
    "What were <b>three</b> of the most important discoveries or realizations you made in this class? In other words, what are you taking away from this class that you think might stick with you over time and/or influence you in the future? What have you experienced that might have a long-term effect on you intellectually or personally? These can include things you had not realized about mathematics or society, specific homework problems or theorems from the textbook, etc. These can be things that made sense to you, or topics where you were confused, issues that arose while working on your assignments, etc. Explain why these three discoveries or realizations are important to you."
   ]
  },
  {
   "cell_type": "markdown",
   "metadata": {},
   "source": []
  }
 ],
 "metadata": {
  "kernelspec": {
   "display_name": "Python 3",
   "language": "python",
   "name": "python3"
  },
  "language_info": {
   "codemirror_mode": {
    "name": "ipython",
    "version": 3
   },
   "file_extension": ".py",
   "mimetype": "text/x-python",
   "name": "python",
   "nbconvert_exporter": "python",
   "pygments_lexer": "ipython3",
   "version": "3.7.0"
  }
 },
 "nbformat": 4,
 "nbformat_minor": 2
}
