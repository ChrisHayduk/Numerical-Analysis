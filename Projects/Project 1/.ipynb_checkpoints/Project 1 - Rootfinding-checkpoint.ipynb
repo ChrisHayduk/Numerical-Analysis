{
 "cells": [
  {
   "cell_type": "markdown",
   "metadata": {},
   "source": [
    "# Team Project 1. Rootfinding\n",
    "\n",
    "The <b>Gompertz curve</b> or Gompertz function, is a type of mathematical model named after Benjamin Gompertz (1779-1865). It is a function which describes growth as being slowest at the start and end of a given time period. Population biology is especially concerned with the Gompertz Function. This function is especially useful in describing the rapid growth of a certain population of organisms (such as tumors, bacteria, etc) while also being able to account for the eventual horizontal asymptote, once the carrying capacity is determined. The function was originally designed to describe human mortality, but since has been modified to be applied in biology, with regards to detailing populations.\n",
    "\n",
    "It is modeled as follows:\n",
    "\n",
    "$$N(t) = N_0 \\mathrm{exp}((\\ln (N_I/N_0)) (1-\\mathrm{exp}(-bt)) = N_0 e^{(\\ln \\frac{N_I}{N_0}) (1-e^{-bt})}$$\n",
    "\n",
    "where $t$ is the time, $N(t)$ is the population at time $t$, $N_0$ is the initial population, $N_I$ is the plateau population number (the maximum capacity in the given situation), $b$ is the initial growth rate, and $exp(x)$ is the exponential function $e^x$. The unit for $N(t)$, $N_I$, and $N_0$ are millions and the unit for $t$ is hours.\n",
    "\n",
    "In this project, we are going to write computer programs that determine the amount of time that it takes for $N(t)$ to rise from the inital population $N_0 = 3\\cdot 10^{-5}$ to $1$. We use $N_I = 10^3$ and $b = 0.12$. \n",
    "\n",
    "Note that the solution of $N(t) = 1$ is equivalent to $N(t) - 1 = 0$, so this is a root finding problem.\n"
   ]
  },
  {
   "cell_type": "markdown",
   "metadata": {},
   "source": [
    "#### 1. (10 pts) Create a Python function bisection(b) that finds the root of $N(t) - 1 = 0$ by bisection method. The initial interval is $[0, b]$. \n",
    "\n",
    "<ul>\n",
    "    <li>Use an error bound $10^{-6}$.</li>\n",
    "    <li>Allow at most 1000 iterations.</li>\n",
    "    <li>For each step, print the left endpoint $a_n$, the right endpoint $b_n$, and the approximation (= midpoint) $c_n$. </li>\n",
    "</ul>"
   ]
  },
  {
   "cell_type": "code",
   "execution_count": 27,
   "metadata": {},
   "outputs": [
    {
     "name": "stdout",
     "output_type": "stream",
     "text": [
      "\n",
      " Iteration:  0 , a:  0  b:  10 , c:  5.0\n",
      "\n",
      " Iteration:  1 , a:  5.0  b:  10 , c:  7.5\n",
      "\n",
      " Iteration:  2 , a:  7.5  b:  10 , c:  8.75\n",
      "\n",
      " Iteration:  3 , a:  7.5  b:  8.75 , c:  8.125\n",
      "\n",
      " Iteration:  4 , a:  7.5  b:  8.125 , c:  7.8125\n",
      "\n",
      " Iteration:  5 , a:  7.5  b:  7.8125 , c:  7.65625\n",
      "\n",
      " Iteration:  6 , a:  7.65625  b:  7.8125 , c:  7.734375\n",
      "\n",
      " Iteration:  7 , a:  7.65625  b:  7.734375 , c:  7.6953125\n",
      "\n",
      " Iteration:  8 , a:  7.65625  b:  7.6953125 , c:  7.67578125\n",
      "\n",
      " Iteration:  9 , a:  7.65625  b:  7.67578125 , c:  7.666015625\n",
      "\n",
      " Iteration:  10 , a:  7.65625  b:  7.666015625 , c:  7.6611328125\n",
      "\n",
      " Iteration:  11 , a:  7.6611328125  b:  7.666015625 , c:  7.66357421875\n",
      "\n",
      " Iteration:  12 , a:  7.6611328125  b:  7.66357421875 , c:  7.662353515625\n",
      "\n",
      " Iteration:  13 , a:  7.6611328125  b:  7.662353515625 , c:  7.6617431640625\n",
      "\n",
      " Iteration:  14 , a:  7.6611328125  b:  7.6617431640625 , c:  7.66143798828125\n",
      "\n",
      " Iteration:  15 , a:  7.6611328125  b:  7.66143798828125 , c:  7.661285400390625\n",
      "\n",
      " Iteration:  16 , a:  7.6611328125  b:  7.661285400390625 , c:  7.6612091064453125\n",
      "\n",
      " Iteration:  17 , a:  7.6611328125  b:  7.6612091064453125 , c:  7.661170959472656\n",
      "\n",
      " Iteration:  18 , a:  7.6611328125  b:  7.661170959472656 , c:  7.661151885986328\n",
      "\n",
      " Iteration:  19 , a:  7.6611328125  b:  7.661151885986328 , c:  7.661142349243164\n",
      "\n",
      " Iteration:  20 , a:  7.6611328125  b:  7.661142349243164 , c:  7.661137580871582\n",
      "\n",
      " Iteration:  21 , a:  7.661137580871582  b:  7.661142349243164 , c:  7.661139965057373\n",
      "\n",
      " Iteration:  22 , a:  7.661137580871582  b:  7.661139965057373 , c:  7.6611387729644775\n",
      "\n",
      " Iteration:  23 , a:  7.661137580871582  b:  7.6611387729644775 , c:  7.66113817691803\n"
     ]
    }
   ],
   "source": [
    "import math\n",
    "import numpy as np\n",
    "\n",
    "def N(t):\n",
    "    return 3*10**(-5) * math.exp(np.log((10**3)/(3*10**(-5)))*(1-math.exp(-0.12*t))) - 1\n",
    "\n",
    "def bisection(b):\n",
    "    a = 0\n",
    "\n",
    "    Na = N(a)\n",
    "    Nb = N(b)\n",
    "\n",
    "    c = (a + b)/2\n",
    "\n",
    "    n = 0\n",
    "\n",
    "    max_n = 1000\n",
    "\n",
    "    ep = 10**(-6)\n",
    "\n",
    "    print(\"\\n Iteration: \", n, \", a: \", a, \" b: \", b, \", c: \", c)\n",
    "    while b-c > ep and n < max_n:\n",
    "        n = n+1\n",
    "        Nc = N(c)\n",
    "        if Nb*Nc <= 0:\n",
    "            a = c\n",
    "            Na = Nc\n",
    "        else:\n",
    "            b = c\n",
    "            Nb = Nc\n",
    "\n",
    "        c = (a+b)/2\n",
    "\n",
    "        print(\"\\n Iteration: \", n, \", a: \", a, \" b: \", b, \", c: \", c)\n",
    "\n",
    "#Test run    \n",
    "bisection(10)"
   ]
  },
  {
   "cell_type": "markdown",
   "metadata": {},
   "source": [
    "#### 2. (10 pts) Create a Python function newton(x) that finds the root of $N(t) - 1 = 0$ by Newton's method. The initial guess $x_0$ is $x$.\n",
    "\n",
    "<ul>\n",
    "    <li>Use an error bound $10^{-6}$. Note that the error size is estimated by $|x_{n+1} - x_n|$.</li>\n",
    "    <li>Allow at most 1000 iterations.</li>\n",
    "    <li>For each step, print $x_n$ and the estimation of an error $|x_n - x_{n-1}|$.</li>\n",
    "</ul>"
   ]
  },
  {
   "cell_type": "code",
   "execution_count": 26,
   "metadata": {},
   "outputs": [
    {
     "name": "stdout",
     "output_type": "stream",
     "text": [
      "\n",
      " Iteration:  0 xn:  5 , Error:  1\n",
      "\n",
      " Iteration:  1 xn:  15.9113739908717 , Error:  10.9113739908717\n",
      "\n",
      " Iteration:  2 xn:  12.706931672830196 , Error:  3.2044423180415045\n",
      "\n",
      " Iteration:  3 xn:  10.592573492298857 , Error:  2.1143581805313385\n",
      "\n",
      " Iteration:  4 xn:  9.098705857374098 , Error:  1.4938676349247597\n",
      "\n",
      " Iteration:  5 xn:  8.144990108579565 , Error:  0.9537157487945329\n",
      "\n",
      " Iteration:  6 xn:  7.732406467311748 , Error:  0.4125836412678172\n",
      "\n",
      " Iteration:  7 xn:  7.662897142865648 , Error:  0.06950932444609936\n",
      "\n",
      " Iteration:  8 xn:  7.661139330108467 , Error:  0.0017578127571811208\n",
      "\n",
      " Iteration:  9 xn:  7.661138232603482 , Error:  1.0975049855588281e-06\n"
     ]
    }
   ],
   "source": [
    "def dN(t):\n",
    "    return (2078.65 * (3/100000000)**(math.exp(-0.12*t)) * math.exp(-0.12*t))\n",
    "\n",
    "def newton(x):\n",
    "    x0 = x\n",
    "    \n",
    "    n = 0\n",
    "\n",
    "    max_n = 1000\n",
    "\n",
    "    ep = 10**(-6)\n",
    "\n",
    "    error = 1\n",
    "\n",
    "    while abs(error) > ep and n <= max_n:\n",
    "        print(\"\\n Iteration: \", n, \"xn: \", x0, \", Error: \", abs(error))\n",
    "        Nx = N(x0)\n",
    "        dNx = dN(x0)\n",
    "\n",
    "        if(dNx == 0):\n",
    "            print(\"The derivative is 0.\")\n",
    "            break\n",
    "\n",
    "        x1 = x0 - Nx/dNx\n",
    "\n",
    "        error = x1 - x0\n",
    "\n",
    "        x0 = x1\n",
    "\n",
    "        n = n+1\n",
    "\n",
    "newton(5)"
   ]
  },
  {
   "cell_type": "markdown",
   "metadata": {},
   "source": [
    "#### 3. (10 pts) Create a Python function secant(x0, x1) that finds the root of $N(t) - 1 = 0$ by secant method. $x_0 = x0$ and $x_1 = x1$. \n",
    "\n",
    "<ul>\n",
    "    <li>Use an error bound $10^{-6}$. You may estimate the error size by $\\alpha - x_n \\approx |x_{n+1} - x_n|$.</li>\n",
    "    <li>Allow at most 1000 iterations.</li>\n",
    "    <li>For each step, print $x_n$ and the estimation of an error $|x_n - x_{n-1}|$.</li>\n",
    "</ul>"
   ]
  },
  {
   "cell_type": "code",
   "execution_count": null,
   "metadata": {},
   "outputs": [],
   "source": [
    "def secant(x0, x1):"
   ]
  },
  {
   "cell_type": "markdown",
   "metadata": {},
   "source": [
    "#### 4. (20 pts) By combining the above methods and/or introducing new ideas, create a function rootfinding() that computes a root of a given function $f(x)$, which is known to be differentiable as many times as you want and has a root on the interval $[0, 10^6]$. Write your code below and leave comments to explain the idea behind. 5 points for the clear description of your idea, and 15 points for the performance of your function.\n",
    "\n",
    "To test the performance of your function, I will test your function rootfinding() by using my test function $f(x)$, which may have root with high multiplicity. (You don't need to worry about implementing the derivative computation for my function $f(x)$. I'll do that part. You may simply implement your test function.) I will run your code on my laptop and check the excution time. 15 points for the best record team, 13 points for the second team, 11 points for the third team, etc. \n",
    "\n",
    "Think creatively. Why should we use tangent line for Newton's method? Can we use degree two Taylor polynomial instead? Can we start with bisection and change to Newton's method? Or can we start with Newton's method and change to another method?\n"
   ]
  },
  {
   "cell_type": "code",
   "execution_count": null,
   "metadata": {},
   "outputs": [],
   "source": []
  }
 ],
 "metadata": {
  "kernelspec": {
   "display_name": "Python 3",
   "language": "python",
   "name": "python3"
  },
  "language_info": {
   "codemirror_mode": {
    "name": "ipython",
    "version": 3
   },
   "file_extension": ".py",
   "mimetype": "text/x-python",
   "name": "python",
   "nbconvert_exporter": "python",
   "pygments_lexer": "ipython3",
   "version": "3.7.1"
  }
 },
 "nbformat": 4,
 "nbformat_minor": 2
}
