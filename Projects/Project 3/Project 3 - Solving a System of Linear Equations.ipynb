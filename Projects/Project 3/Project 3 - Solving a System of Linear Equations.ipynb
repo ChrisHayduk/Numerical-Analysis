{
 "cells": [
  {
   "cell_type": "markdown",
   "metadata": {},
   "source": [
    "# Team Project 3 - Solving a System of Linear Equations\n",
    "## Chris Hayduk\n",
    "\n",
    "In this project, we compare the performance of three different methods of solving a system of linear equations. "
   ]
  },
  {
   "cell_type": "markdown",
   "metadata": {},
   "source": [
    "#### 1. (10 pts) Create a function randmat(n) which returns a random square matrix constructed as the following recipe. \n",
    "<ul>\n",
    "    <li>The size of the matrix is $n \\times n$.</li>\n",
    "    <li>Each off-diagonal entry ($a_{ij}$ where $i \\ne j$) is a random number in $[0, 1)$. A random number can be constructed by the random method (see <a href=\"https://docs.scipy.org/doc/numpy/reference/routines.random.html\">here</a>.</li>\n",
    "    <li>A diagonal entry $a_{ii}$ is a random number in $[n, n+1)$. (This condition may look like artificial, but we will discuss the reason during the class.)</li>\n",
    "</ul>\n",
    "\n",
    "#### And create a function randvec(n) which returns an $n$-dimensional random vector whose entries are random numbers in $[0, 100)$. "
   ]
  },
  {
   "cell_type": "code",
   "execution_count": 1,
   "metadata": {},
   "outputs": [
    {
     "name": "stdout",
     "output_type": "stream",
     "text": [
      "Test matrix:\n",
      "[5.80591763404839, 0.5057317246042576, 0.8554257450445223, 0.7650214017515816, 0.4727514924496732] ,\n",
      "[0.44248504279830037, 5.061406465867857, 0.6459892266127574, 0.1309380829290192, 0.23013895564331455] ,\n",
      "[0.39295781251598416, 0.9724487141026891, 5.150968262453211, 0.7843501737402961, 0.10835034455136228] ,\n",
      "[0.2772445002209445, 0.9384567178501756, 0.5695913152808363, 5.479665544298266, 0.4640600791341356] ,\n",
      "[0.20539759709904792, 0.3023107298697737, 0.46241860533678236, 0.5078732157112322, 5.280467026886359]\n",
      "\n",
      "Test vector:\n",
      "[26.39273873 51.98875865  9.4792322   1.64967916 50.31642544]\n"
     ]
    }
   ],
   "source": [
    "import numpy as np\n",
    "\n",
    "#Define randmat function\n",
    "def randmat(n):\n",
    "    #Initialize matrix\n",
    "    mat = [[-999 for i in range(n)] for j in range(n)]\n",
    "    \n",
    "    #Loop through rows of matrix\n",
    "    for i in range(n):\n",
    "        #Loop through columns of matrix\n",
    "        for j in range(n):\n",
    "            #Generate random numbers\n",
    "            rand_num = np.random.random_sample()\n",
    "            #Add n to random number if i == j and assign it to mat[i][j]\n",
    "            if i == j:\n",
    "                mat[i][j] = rand_num+n\n",
    "            #If i != j, just assign random number to mat[i][j]\n",
    "            else:\n",
    "                mat[i][j] = rand_num\n",
    "    \n",
    "    #Return mat\n",
    "    return mat\n",
    "\n",
    "#Define function to print matrices in an easier to read manner\n",
    "def print_mat(mat):\n",
    "    for i in range(len(mat)):\n",
    "        if i != len(mat)-1:\n",
    "            print(mat[i], ',')\n",
    "        else:\n",
    "            print(mat[i])\n",
    "\n",
    "#Test run for randmat function\n",
    "mat = randmat(5)\n",
    "\n",
    "print(\"Test matrix:\")\n",
    "print_mat(mat)\n",
    "\n",
    "#Define randvec function\n",
    "def randvec(n):  \n",
    "    #Generate vector of random numbers\n",
    "    vec = np.random.uniform(0,100,n)\n",
    "    \n",
    "    #Return vector\n",
    "    return vec\n",
    "\n",
    "#Test run for randvec function\n",
    "vec = randvec(5)\n",
    "\n",
    "print(\"\\nTest vector:\")\n",
    "print(vec)"
   ]
  },
  {
   "cell_type": "markdown",
   "metadata": {},
   "source": [
    "#### 2. (10 pts) Create a function GaussElim(A, b) which solves a system of linear equations $Ax = b$ by using Gaussian Elimination without pivoting. DO NOT use solve method in the linear algebra package! You have to make a code for it. "
   ]
  },
  {
   "cell_type": "code",
   "execution_count": 2,
   "metadata": {},
   "outputs": [
    {
     "name": "stdout",
     "output_type": "stream",
     "text": [
      "[-2.0, 3.0, 1.0] \n",
      "\n",
      "[7.111111111111111, -3.2222222222222223]\n"
     ]
    }
   ],
   "source": [
    "#Define GaussElim function\n",
    "def GaussElim(A, b):\n",
    "    #Initialize augmented matrix\n",
    "    mat = [[-999 for i in range(len(A[0])+1)] for j in range(len(A))]\n",
    "    \n",
    "    #Assign values to augmented matrix\n",
    "    for i in range(len(A)):\n",
    "        for j in range(len(A[0])+1):\n",
    "            if j != len(A[0]):\n",
    "                mat[i][j] = A[i][j]\n",
    "            else:\n",
    "                mat[i][j] = b[i]\n",
    "    \n",
    "    #Start at column 0\n",
    "    col = 0\n",
    "    \n",
    "    #Loop through rows\n",
    "    for i in range(len(mat)):\n",
    "        row = i+1\n",
    "        \n",
    "        #Apply multipliers to each row below the current row (row i)\n",
    "        #Do this until we reach the last row of the matrix\n",
    "        while row < len(mat):\n",
    "            m = mat[row][col]/mat[i][col]\n",
    "            \n",
    "            #Initialize temporary row to store new values\n",
    "            tempRow = []\n",
    "            \n",
    "            #Derive new values by using multiplier and row operations\n",
    "            for j in range(len(mat[0])):\n",
    "                tempRow.append(mat[row][j] - m*mat[i][j])\n",
    "            \n",
    "            #Set the target row equal to tempRow\n",
    "            mat[row] = tempRow\n",
    "            \n",
    "            #Move on to the next row\n",
    "            row = row + 1\n",
    "        \n",
    "        #Move on to the next column\n",
    "        col = col+1\n",
    "    \n",
    "    #Initialize x vector\n",
    "    x = [0.0 for i in range(len(mat))]\n",
    "    \n",
    "    #Define column that contains the b vector\n",
    "    bcol = len(mat[0])-1\n",
    "    \n",
    "    #Initialize last value of the x vector\n",
    "    x[len(x)-1] =  mat[len(mat)-1][bcol]/mat[len(mat)-1][bcol-1]\n",
    "    \n",
    "    #Loop backwards from the second to last row in the matrix to the first row in the matrix\n",
    "    for i in range(len(mat)-2, -1, -1):\n",
    "        #Set x[i] equal to corresponding value in b column\n",
    "        x[i] = mat[i][bcol]\n",
    "        \n",
    "        #Loop through colums\n",
    "        #Subtract each known x value * its coefficient\n",
    "        for j in range(i+1, len(mat)):\n",
    "            x[i] -= mat[i][j]*x[j]\n",
    "        \n",
    "        #Divide x value by the its coefficient\n",
    "        x[i] = x[i]/mat[i][i]\n",
    "    \n",
    "    return(x)\n",
    "\n",
    "#Example run\n",
    "#Target answer is [-2.0, 3.0, 1.0]\n",
    "A = [[-3, 2, -6],\n",
    "    [5, 7, -5],\n",
    "    [1, 4, -2]]\n",
    "\n",
    "b = [6, 6, 8]\n",
    "\n",
    "print(GaussElim(A, b), '\\n')\n",
    "\n",
    "#Target answer is about [7.111, -3.222]\n",
    "A = [[2.0,1.0],\n",
    "     [5.0,7.0]]\n",
    "\n",
    "b = [11.0,13.0]\n",
    "\n",
    "print(GaussElim(A, b))"
   ]
  },
  {
   "cell_type": "markdown",
   "metadata": {},
   "source": [
    "#### 3. (10 pts) Create a function Jacobi(A, b, err) which solves a system of linear equations $Ax = b$ by using Jacobi interation method. We stop the iteration when the estimation of the error $||x^{(k)} - x^{(k-1)}||_\\infty$ is less than err. (Here $x^{(k)}$ is the $k$-th output of the iteration)."
   ]
  },
  {
   "cell_type": "code",
   "execution_count": 3,
   "metadata": {},
   "outputs": [
    {
     "name": "stdout",
     "output_type": "stream",
     "text": [
      "Spectral radius is greater than 1, Jacobi iteration may not converge!\n",
      "[             inf              inf -1.15407429e+307] \n",
      "\n",
      "[ 7.11110786 -3.22221551]\n"
     ]
    },
    {
     "name": "stderr",
     "output_type": "stream",
     "text": [
      "C:\\Users\\chris\\Anaconda3\\lib\\site-packages\\ipykernel_launcher.py:35: RuntimeWarning: invalid value encountered in double_scalars\n"
     ]
    }
   ],
   "source": [
    "def norm(x):\n",
    "    abs_x = np.absolute(x)\n",
    "\n",
    "    max_num = np.amax(abs_x)\n",
    "\n",
    "    return(max_num)\n",
    "\n",
    "def spectral_radius(x):\n",
    "    eig_vals = np.linalg.eigvals(x)\n",
    "    \n",
    "    eig_vals = np.absolute(eig_vals)\n",
    "    \n",
    "    return(np.amax(eig_vals))\n",
    "\n",
    "def Jacobi(A, b, err):  \n",
    "    A = np.array(A)\n",
    "    b = np.array(b)\n",
    "    \n",
    "    diagA = np.diagonal(A)\n",
    "    D = np.diagflat(diagA)\n",
    "    R = A - D\n",
    "    \n",
    "    iteration_mat = np.dot(np.linalg.inv(D), R)\n",
    "    spec_rad = spectral_radius(iteration_mat)\n",
    "        \n",
    "    if(spec_rad > 1):\n",
    "        print(\"Spectral radius is greater than 1, Jacobi iteration may not converge!\")\n",
    "        \n",
    "    x0 = np.ones(len(b))\n",
    "        \n",
    "    relerr = 1000\n",
    "    while relerr > err:\n",
    "        x = (b - np.dot(R, x0))/diagA\n",
    "\n",
    "        relerr = norm(x-x0)/(norm(x) + np.finfo(float).eps)\n",
    "        \n",
    "        x0 = x\n",
    "    \n",
    "    return(x0)\n",
    "    \n",
    "#Example run\n",
    "#Target answer is [-2.0, 3.0, 1.0]\n",
    "A = [[-3, 2, -6],\n",
    "    [5, 7, -5],\n",
    "    [1, 4, -2]]\n",
    "\n",
    "b = [6, 6, 8]\n",
    "\n",
    "print(Jacobi(A, b, 10**(-6)), '\\n')\n",
    "\n",
    "#Target answer is about [7.111, -3.222]\n",
    "A = [[2.0,1.0],\n",
    "     [5.0,7.0]]\n",
    "\n",
    "b = [11.0,13.0]\n",
    "\n",
    "print(Jacobi(A, b, 10**(-6)))"
   ]
  },
  {
   "cell_type": "markdown",
   "metadata": {},
   "source": [
    "#### 4. (10 pts) Create a function GaussSeidel(A, b, err) which solves a system of linear equations $Ax = b$ by using Gauss-Seidel interation method. We stop the iteration when the estimation of the error $||x^{(k)} - x^{(k-1)}||_\\infty$ is less than err. (Here $x^{(k)}$ is the $k$-th output of the iteration)."
   ]
  },
  {
   "cell_type": "code",
   "execution_count": 4,
   "metadata": {},
   "outputs": [
    {
     "name": "stdout",
     "output_type": "stream",
     "text": [
      "The matrix is not positive definite and is not diagonally dominant. Gauss-Seidel may not converge!\n",
      "[3.22327499e+307            -inf            -inf] \n",
      "\n",
      "[ 7.11110863 -3.22222045]\n"
     ]
    },
    {
     "name": "stderr",
     "output_type": "stream",
     "text": [
      "C:\\Users\\chris\\Anaconda3\\lib\\site-packages\\ipykernel_launcher.py:42: RuntimeWarning: overflow encountered in double_scalars\n",
      "C:\\Users\\chris\\Anaconda3\\lib\\site-packages\\ipykernel_launcher.py:44: RuntimeWarning: invalid value encountered in double_scalars\n"
     ]
    }
   ],
   "source": [
    "def check_positive_definite(x):\n",
    "    eig_vals = np.linalg.eigvals(x)\n",
    "    \n",
    "    positive_definite = True\n",
    "    \n",
    "    for eig_val in eig_vals:\n",
    "        if eig_val < 0:\n",
    "            positive_definite = False\n",
    "            \n",
    "    return positive_definite\n",
    "\n",
    "def check_diagonal_dominance(x):\n",
    "    D = np.diag(np.abs(x)) # Find diagonal coefficients\n",
    "    S = np.sum(np.abs(x), axis=1) - D # Find row sum without diagonal\n",
    "    \n",
    "    diagonal_dominant = True\n",
    "    \n",
    "    if np.all(D <= S):\n",
    "        diagonal_dominant = False\n",
    "    \n",
    "    return diagonal_dominant\n",
    "\n",
    "def GaussSeidel(A, b, err):\n",
    "    n = len(A)\n",
    "    \n",
    "    A = np.array(A)\n",
    "    b = np.array(b)\n",
    "    \n",
    "    if(not (check_positive_definite(A)) and not (check_diagonal_dominance(A))):\n",
    "        print(\"The matrix is not positive definite and is not diagonally dominant. Gauss-Seidel may not converge!\")\n",
    "            \n",
    "    x0 = np.zeros(len(b))\n",
    "    \n",
    "    relerr = 1000\n",
    "    \n",
    "    while relerr > err:\n",
    "        x = np.zeros(len(b))\n",
    "        \n",
    "        for i in range(n):\n",
    "            s1 = np.dot(A[i, :i], x[:i])\n",
    "            s2 = np.dot(A[i, i + 1:], x0[i + 1:])\n",
    "            x[i] = (b[i] - s1 - s2) / A[i, i]\n",
    "        \n",
    "        relerr = norm(x-x0)/(norm(x) + np.finfo(float).eps)\n",
    "        \n",
    "        x0 = x\n",
    "    \n",
    "    return(x0)\n",
    "\n",
    "#Example run\n",
    "#Target answer is [-2.0, 3.0, 1.0]\n",
    "A = [[-3, 2, -6],\n",
    "    [5, 7, -5],\n",
    "    [1, 4, -2]]\n",
    "\n",
    "b = [6, 6, 8]\n",
    "\n",
    "print(GaussSeidel(A, b, 10**(-6)), '\\n')\n",
    "\n",
    "#Target answer is about [7.111, -3.222]\n",
    "A = [[2.0,1.0],\n",
    "     [5.0,7.0]]\n",
    "\n",
    "b = [11.0,13.0]\n",
    "\n",
    "print(GaussSeidel(A, b, 10**(-6)))"
   ]
  },
  {
   "cell_type": "markdown",
   "metadata": {},
   "source": [
    "#### 5. (10 pts) For $n = 100, 200, 300, \\cdots , 1000$, create a random $n \\times n$ matrix $A$ and a random $n$-dimensional vector $b$. Solve the system of linear equations $Ax = b$ by using GaussElim(A, b), Jacobi(A, b, err), and GaussSeidel(A, b, err). Use $10^{-6}$ for the error tolerance. Record the excution time for each method. Plot the graph of the excution time for those three methods on the same plane.\n",
    "\n",
    "For the computation of the excution time, you may use the following method:"
   ]
  },
  {
   "cell_type": "code",
   "execution_count": 24,
   "metadata": {},
   "outputs": [
    {
     "name": "stdout",
     "output_type": "stream",
     "text": [
      "Trial with n = 100\n",
      "\tGaussian Elimination: 0.13293886184692383 seconds\n",
      "\tJacobi Iteration: 0.0059773921966552734 seconds\n",
      "\tGauss-Seidel: 0.009994268417358398 seconds\n",
      "\n",
      "\n",
      "Trial with n = 200\n",
      "\tGaussian Elimination: 1.265261173248291 seconds\n",
      "\tJacobi Iteration: 0.06496024131774902 seconds\n",
      "\tGauss-Seidel: 0.16190838813781738 seconds\n",
      "\n",
      "\n",
      "Trial with n = 300\n",
      "\tGaussian Elimination: 4.12865686416626 seconds\n",
      "\tJacobi Iteration: 0.08593177795410156 seconds\n",
      "\tGauss-Seidel: 0.09694552421569824 seconds\n",
      "\n",
      "\n",
      "Trial with n = 400\n",
      "\tGaussian Elimination: 10.230150938034058 seconds\n",
      "\tJacobi Iteration: 0.21488022804260254 seconds\n",
      "\tGauss-Seidel: 0.19489240646362305 seconds\n",
      "\n",
      "\n",
      "Trial with n = 500\n",
      "\tGaussian Elimination: 17.26914691925049 seconds\n",
      "\tJacobi Iteration: 0.24184274673461914 seconds\n",
      "\tGauss-Seidel: 0.19289064407348633 seconds\n",
      "\n",
      "\n",
      "Trial with n = 600\n",
      "\tGaussian Elimination: 30.8693368434906 seconds\n",
      "\tJacobi Iteration: 0.40376853942871094 seconds\n",
      "\tGauss-Seidel: 0.3488016128540039 seconds\n",
      "\n",
      "\n",
      "Trial with n = 700\n",
      "\tGaussian Elimination: 49.742546796798706 seconds\n",
      "\tJacobi Iteration: 0.5306942462921143 seconds\n",
      "\tGauss-Seidel: 0.4267556667327881 seconds\n",
      "\n",
      "\n",
      "Trial with n = 800\n",
      "\tGaussian Elimination: 73.08521842956543 seconds\n",
      "\tJacobi Iteration: 0.6946029663085938 seconds\n",
      "\tGauss-Seidel: 0.5576808452606201 seconds\n",
      "\n",
      "\n",
      "Trial with n = 900\n",
      "\tGaussian Elimination: 102.89617872238159 seconds\n",
      "\tJacobi Iteration: 0.870499849319458 seconds\n",
      "\tGauss-Seidel: 0.6876065731048584 seconds\n",
      "\n",
      "\n",
      "Trial with n = 1000\n",
      "\tGaussian Elimination: 146.3183536529541 seconds\n",
      "\tJacobi Iteration: 1.096372127532959 seconds\n",
      "\tGauss-Seidel: 0.8615076541900635 seconds\n",
      "\n",
      "\n"
     ]
    }
   ],
   "source": [
    "import time\n",
    "\n",
    "iterations = [100*i for i in range(1, 11)]\n",
    "err = 10**(-6)\n",
    "\n",
    "gauss_elim_execution = []\n",
    "jacobi_execution = []\n",
    "gauss_seidel_execution = []\n",
    "\n",
    "for n in iterations:\n",
    "    print(\"Trial with n = {}\".format(n))\n",
    "    A = randmat(n)\n",
    "    b = randvec(n)\n",
    "    \n",
    "    start = time.time()\n",
    "    GaussElim(A, b)\n",
    "    end = time.time()\n",
    "\n",
    "    print(\"\\tGaussian Elimination: {} seconds\".format(end - start))\n",
    "    \n",
    "    gauss_elim_execution.append(end-start)\n",
    "    \n",
    "    start = time.time()\n",
    "    Jacobi(A, b, err)\n",
    "    end = time.time()\n",
    "\n",
    "    print(\"\\tJacobi Iteration: {} seconds\".format(end - start))\n",
    "    \n",
    "    jacobi_execution.append(end-start)\n",
    "    \n",
    "    start = time.time()\n",
    "    GaussSeidel(A, b, err)\n",
    "    end = time.time()\n",
    "\n",
    "    print(\"\\tGauss-Seidel: {} seconds\".format(end - start))\n",
    "    print(\"\\n\")\n",
    "    \n",
    "    gauss_seidel_execution.append(end-start)"
   ]
  },
  {
   "cell_type": "code",
   "execution_count": 46,
   "metadata": {},
   "outputs": [
    {
     "data": {
      "text/plain": [
       "<matplotlib.legend.Legend at 0x1c3f5563da0>"
      ]
     },
     "execution_count": 46,
     "metadata": {},
     "output_type": "execute_result"
    },
    {
     "data": {
      "image/png": "[encoded data removed]",
      "text/plain": [
       "<Figure size 1080x504 with 1 Axes>"
      ]
     },
     "metadata": {
      "needs_background": "light"
     },
     "output_type": "display_data"
    }
   ],
   "source": [
    "import matplotlib.pyplot as plt\n",
    "import pandas as pd\n",
    "\n",
    "df=pd.DataFrame({'n': iterations, 'GaussElim': gauss_elim_execution, \n",
    "                 'Jacobi': jacobi_execution, \n",
    "                 'Gauss-Seidel': gauss_seidel_execution})\n",
    "\n",
    "plt.plot( 'n', 'GaussElim', data=df, marker='o', markerfacecolor='blue', markersize=6, color='skyblue', linewidth=2)\n",
    "plt.plot( 'n', 'Jacobi', data=df, marker='', color='green', linewidth=2)\n",
    "plt.plot( 'n', 'Gauss-Seidel', data=df, marker='', color='red', linewidth=2, linestyle='dashed')\n",
    "plt.legend(loc='upper left', fontsize = 15)\n",
    "plt.title(\"Comparison of Execution Times\", fontsize = 20)\n",
    "plt.ylabel(\"Execution Time (seconds)\", fontsize = 15)\n",
    "plt.xlabel(\"n\", fontsize = 15)\n",
    "plt.rcParams[\"figure.figsize\"] = [15,7]\n",
    "plt.legend()"
   ]
  },
  {
   "cell_type": "markdown",
   "metadata": {},
   "source": [
    "Well, if you are interested in, then you can make a code using the \"theoretically simplest method\". For $Ax = b$, $x = A^{-1}b$. By using Gauss Elimination, you may compute $A^{-1}$ and then compute $A^{-1}b$. Recall that one can compute $A^{-1}$ as the following:\n",
    "<ul>\n",
    "    <li>Make an augmented matrix $[A | I]$ where $I$ is the $n \\times n$ identity matrix.</li>\n",
    "    <li>Apply elementary row operations until the left half $A$ on $[A| I]$ becomes $I$.</li>\n",
    "    <li>Then the right half of the augmented matrix is $A^{-1}$.</li>\n",
    "</ul>\n",
    "Compare the performance of this method with above three methods."
   ]
  },
  {
   "cell_type": "code",
   "execution_count": null,
   "metadata": {},
   "outputs": [],
   "source": [
    "def GaussElimInverse(A, b):"
   ]
  }
 ],
 "metadata": {
  "kernelspec": {
   "display_name": "Python 3",
   "language": "python",
   "name": "python3"
  },
  "language_info": {
   "codemirror_mode": {
    "name": "ipython",
    "version": 3
   },
   "file_extension": ".py",
   "mimetype": "text/x-python",
   "name": "python",
   "nbconvert_exporter": "python",
   "pygments_lexer": "ipython3",
   "version": "3.7.1"
  }
 },
 "nbformat": 4,
 "nbformat_minor": 2
}
