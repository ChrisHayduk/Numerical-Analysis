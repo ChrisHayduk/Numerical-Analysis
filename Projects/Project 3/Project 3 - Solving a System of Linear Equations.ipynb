{
 "cells": [
  {
   "cell_type": "markdown",
   "metadata": {},
   "source": [
    "# Team Project 3 - Solving a System of Linear Equations\n",
    "\n",
    "In this project, we compare the performance of three different methods of solving a system of linear equations. "
   ]
  },
  {
   "cell_type": "markdown",
   "metadata": {},
   "source": [
    "#### 1. (10 pts) Create a function randmat(n) which returns a random square matrix constructed as the following recipe. \n",
    "<ul>\n",
    "    <li>The size of the matrix is $n \\times n$.</li>\n",
    "    <li>Each off-diagonal entry ($a_{ij}$ where $i \\ne j$) is a random number in $[0, 1)$. A random number can be constructed by the random method (see <a href=\"https://docs.scipy.org/doc/numpy/reference/routines.random.html\">here</a>.</li>\n",
    "    <li>A diagonal entry $a_{ii}$ is a random number in $[n, n+1)$. (This condition may look like artificial, but we will discuss the reason during the class.)</li>\n",
    "</ul>\n",
    "\n",
    "#### And create a function randvec(n) which returns an $n$-dimensional random vector whose entries are random numbers in $[0, 100)$. "
   ]
  },
  {
   "cell_type": "code",
   "execution_count": null,
   "metadata": {},
   "outputs": [],
   "source": []
  },
  {
   "cell_type": "markdown",
   "metadata": {},
   "source": [
    "#### 2. (10 pts) Create a function GaussElim(A, b) which solves a system of linear equations $Ax = b$ by using Gaussian Elimination without pivoting. DO NOT use solve method in the linear algebra package! You have to make a code for it. "
   ]
  },
  {
   "cell_type": "code",
   "execution_count": null,
   "metadata": {},
   "outputs": [],
   "source": []
  },
  {
   "cell_type": "markdown",
   "metadata": {},
   "source": [
    "#### 3. (10 pts) Create a function Jacobi(A, b, err) which solves a system of linear equations $Ax = b$ by using Jacobi interation method. We stop the iteration when the estimation of the error $||x^{(k)} - x^{(k-1)}||_\\infty$ is less than err. (Here $x^{(k)}$ is the $k$-th output of the iteration)."
   ]
  },
  {
   "cell_type": "code",
   "execution_count": null,
   "metadata": {},
   "outputs": [],
   "source": []
  },
  {
   "cell_type": "markdown",
   "metadata": {},
   "source": [
    "#### 4. (10 pts) Create a function GaussSeidel(A, b, err) which solves a system of linear equations $Ax = b$ by using Gauss-Seidel interation method. We stop the iteration when the estimation of the error $||x^{(k)} - x^{(k-1)}||_\\infty$ is less than err. (Here $x^{(k)}$ is the $k$-th output of the iteration)."
   ]
  },
  {
   "cell_type": "code",
   "execution_count": null,
   "metadata": {},
   "outputs": [],
   "source": []
  },
  {
   "cell_type": "markdown",
   "metadata": {},
   "source": [
    "#### 5. (10 pts) For $n = 100, 200, 300, \\cdots , 1000$, create a random $n \\times n$ matrix $A$ and a random $n$-dimensional vector $b$. Solve the system of linear equations $Ax = b$ by using GaussElim(A, b), Jacobi(A, b, err), and GaussSeidel(A, b, err). Use $10^{-6}$ for the error tolerance. Record the excution time for each method. Plot the graph of the excution time for those three methods on the same plane.\n",
    "\n",
    "For the computation of the excution time, you may use the following method:"
   ]
  },
  {
   "cell_type": "code",
   "execution_count": null,
   "metadata": {},
   "outputs": [],
   "source": [
    "import time\n",
    "\n",
    "start = time.time()\n",
    "\"the code you want to test stays here\"\n",
    "end = time.time()\n",
    "\n",
    "print(end - start)"
   ]
  },
  {
   "cell_type": "code",
   "execution_count": null,
   "metadata": {},
   "outputs": [],
   "source": []
  },
  {
   "cell_type": "markdown",
   "metadata": {},
   "source": [
    "Well, if you are interested in, then you can make a code using the \"theoretically simplest method\". For $Ax = b$, $x = A^{-1}b$. By using Gauss Elimination, you may compute $A^{-1}$ and then compute $A^{-1}b$. Recall that one can compute $A^{-1}$ as the following:\n",
    "<ul>\n",
    "    <li>Make an augmented matrix $[A | I]$ where $I$ is the $n \\times n$ identity matrix.</li>\n",
    "    <li>Apply elementary row operations until the left half $A$ on $[A| I]$ becomes $I$.</li>\n",
    "    <li>Then the right half of the augmented matrix is $A^{-1}$.</li>\n",
    "</ul>\n",
    "Compare the performance of this method with above three methods."
   ]
  },
  {
   "cell_type": "code",
   "execution_count": null,
   "metadata": {},
   "outputs": [],
   "source": []
  }
 ],
 "metadata": {
  "kernelspec": {
   "display_name": "Python 3",
   "language": "python",
   "name": "python3"
  },
  "language_info": {
   "codemirror_mode": {
    "name": "ipython",
    "version": 3
   },
   "file_extension": ".py",
   "mimetype": "text/x-python",
   "name": "python",
   "nbconvert_exporter": "python",
   "pygments_lexer": "ipython3",
   "version": "3.7.0"
  }
 },
 "nbformat": 4,
 "nbformat_minor": 2
}
